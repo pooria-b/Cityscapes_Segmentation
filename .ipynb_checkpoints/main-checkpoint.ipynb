{
 "cells": [
  {
   "cell_type": "markdown",
   "metadata": {
    "id": "7Aw3QWgOHqZb"
   },
   "source": [
    "# Dataset"
   ]
  },
  {
   "cell_type": "code",
   "execution_count": null,
   "metadata": {
    "id": "oqTqe4of71TO"
   },
   "outputs": [],
   "source": [
    "!cp -r '/content/drive/MyDrive/Data/Data_set/' '/content'"
   ]
  },
  {
   "cell_type": "markdown",
   "metadata": {
    "id": "KeHtSDdQHzXX"
   },
   "source": [
    "# Imports"
   ]
  },
  {
   "cell_type": "code",
   "execution_count": null,
   "metadata": {
    "colab": {
     "base_uri": "https://localhost:8080/"
    },
    "id": "y3HXyYaNw94d",
    "outputId": "834a8b9f-433c-4457-931e-3ad0ef37151c"
   },
   "outputs": [
    {
     "name": "stdout",
     "output_type": "stream",
     "text": [
      "/content/drive/MyDrive/Final_Project\n"
     ]
    }
   ],
   "source": [
    "%cd '/content/drive/MyDrive/Final_Project'\n",
    "import matplotlib.pyplot as plt\n",
    "import numpy as np\n",
    "from tqdm import tqdm\n",
    "from torchsummary import summary\n",
    "import torchvision.models as models\n",
    "import torch.nn as nn\n",
    "import torch\n",
    "\n",
    "from Dataloder import Cityscapes\n",
    "from SegNet import *\n",
    "from UNET import *\n",
    "from deeplabv3 import custom_DeepLabv3_101, custom_DeepLabv3_50"
   ]
  },
  {
   "cell_type": "markdown",
   "metadata": {
    "id": "WKGRi98pHvbP"
   },
   "source": [
    "# Intitial Config"
   ]
  },
  {
   "cell_type": "code",
   "execution_count": null,
   "metadata": {
    "id": "IovsO2d7-ARv"
   },
   "outputs": [],
   "source": [
    "NUM_CLASSES = 20\n",
    "BATCH_SIZE = 2\n",
    "IMAGE_SIZE = 650\n",
    "NUM_EPOCHS = 1\n",
    "SEED = 101\n",
    "\n",
    "torch.manual_seed(SEED) \n",
    "device = 'cuda' if torch.cuda.is_available() else 'cpu'"
   ]
  },
  {
   "cell_type": "markdown",
   "metadata": {
    "id": "Fm0JlTWYH3DP"
   },
   "source": [
    "# DataLoader"
   ]
  },
  {
   "cell_type": "code",
   "execution_count": null,
   "metadata": {
    "colab": {
     "base_uri": "https://localhost:8080/"
    },
    "id": "OAFW4tyxxJL6",
    "outputId": "5404a7f5-bb9d-4aad-ed94-d279534ecb46"
   },
   "outputs": [],
   "source": [
    "train_dataset = Cityscapes(root= '/content/Data_set',phase= 'train' , IMG_SIZE = IMAGE_SIZE, num_classes = NUM_CLASSES)\n",
    "val_dataset   = Cityscapes(root= '/content/Data_set',phase= 'val'   , IMG_SIZE = IMAGE_SIZE, num_classes = NUM_CLASSES)"
   ]
  },
  {
   "cell_type": "code",
   "execution_count": null,
   "metadata": {
    "id": "4ExOZ6EhyEjU"
   },
   "outputs": [],
   "source": [
    "from torch.utils.data import Dataset, DataLoader\n",
    "train_data_loader = DataLoader(train_dataset, batch_size=BATCH_SIZE, drop_last = True)\n",
    "val_data_loader   = DataLoader(val_dataset  , batch_size=BATCH_SIZE, drop_last = True)"
   ]
  },
  {
   "cell_type": "code",
   "execution_count": null,
   "metadata": {
    "colab": {
     "base_uri": "https://localhost:8080/"
    },
    "id": "VB8QG2MMXGTy",
    "outputId": "4a9fdda1-7af5-45a0-9d9d-61f6fc9f3540"
   },
   "outputs": [],
   "source": [
    "X, Y = next(iter(val_data_loader))\n",
    "print('X shape:', X.shape, X.dtype)\n",
    "print('Y shape:', Y.shape, Y.dtype)\n",
    "X, Y = X.to(device), Y.to(device)"
   ]
  },
  {
   "cell_type": "markdown",
   "metadata": {
    "id": "zQzfvZi-IBVB"
   },
   "source": [
    "# Checking Data"
   ]
  },
  {
   "cell_type": "code",
   "execution_count": null,
   "metadata": {
    "id": "MCKxrCCV_TUM"
   },
   "outputs": [],
   "source": [
    "label = torch.argmax(Y, dim=1)"
   ]
  },
  {
   "cell_type": "code",
   "execution_count": null,
   "metadata": {
    "colab": {
     "base_uri": "https://localhost:8080/",
     "height": 1000
    },
    "id": "vIsK73U3_Fc7",
    "outputId": "ba955254-94e1-4db5-c3b9-905a2c9dfae5"
   },
   "outputs": [],
   "source": [
    "fig, axes = plt.subplots(BATCH_SIZE, 2, figsize=(3*5, BATCH_SIZE*5))\n",
    "\n",
    "for i in range(BATCH_SIZE):\n",
    "    \n",
    "    landscape = X[i].permute(1, 2, 0).cpu().detach().numpy()\n",
    "    label_class = label[i].cpu().detach().numpy()\n",
    "\n",
    "    axes[i, 0].imshow(landscape)\n",
    "    axes[i, 0].set_title(\"Landscape\")\n",
    "    axes[i, 1].imshow(label_class, cmap = 'jet')\n",
    "    axes[i, 1].set_title(\"Label Class\")"
   ]
  },
  {
   "cell_type": "markdown",
   "metadata": {
    "id": "-nhYbOATILkp"
   },
   "source": [
    "## Checking each channel of a label\n"
   ]
  },
  {
   "cell_type": "code",
   "execution_count": null,
   "metadata": {
    "colab": {
     "base_uri": "https://localhost:8080/",
     "height": 1000
    },
    "id": "wE84soNIUYJR",
    "outputId": "ac951246-d099-4f89-b078-80385d0c6933"
   },
   "outputs": [],
   "source": [
    "label = Y[0].cpu().detach().numpy()\n",
    "\n",
    "fig, axes = plt.subplots(ncols = 1, nrows= NUM_CLASSES, figsize=(50,90))\n",
    "for i in range(NUM_CLASSES):\n",
    "  print(np.unique(label[i]))\n",
    "  axes[i].imshow(label[i], cmap = 'gray')\n",
    "  axes[i].axis('off')"
   ]
  },
  {
   "cell_type": "markdown",
   "metadata": {
    "id": "WPdne6OHIjJP"
   },
   "source": [
    "# Model"
   ]
  },
  {
   "cell_type": "code",
   "execution_count": null,
   "metadata": {
    "id": "xnxLyvq4EcQC"
   },
   "outputs": [],
   "source": [
    "# UNet(out_channels=NUM_CLASSES)\n",
    "model = custom_DeepLabv3_101(out_channel=NUM_CLASSES)\n",
    "model.to(device)"
   ]
  },
  {
   "cell_type": "markdown",
   "metadata": {
    "id": "1D8v3-NnPa66"
   },
   "source": [
    "## model's parameters"
   ]
  },
  {
   "cell_type": "code",
   "execution_count": null,
   "metadata": {
    "colab": {
     "base_uri": "https://localhost:8080/"
    },
    "id": "g3fN29hdIrFl",
    "outputId": "09ffcd69-9d2b-4817-c569-e3095bfff17d"
   },
   "outputs": [],
   "source": [
    "pytorch_total_params = sum(p.numel() for p in model.parameters())\n",
    "trainable_params = sum(p.numel() for p in model.parameters() if p.requires_grad)\n",
    "\n",
    "print(\"total model's parameters     : \" , pytorch_total_params/1000000, 'M')\n",
    "print(\"trainable model's parameters : \" , trainable_params/1000000, 'M')"
   ]
  },
  {
   "cell_type": "markdown",
   "metadata": {
    "id": "hO0VtFLrPeMk"
   },
   "source": [
    "## prediction using pretrained weights "
   ]
  },
  {
   "cell_type": "code",
   "execution_count": null,
   "metadata": {
    "id": "rfc6T7CYccJl"
   },
   "outputs": [],
   "source": [
    "X, Y = X.to(device).float(), Y.to(device).long()\n",
    "Y_pred = model(X)"
   ]
  },
  {
   "cell_type": "code",
   "execution_count": null,
   "metadata": {
    "colab": {
     "base_uri": "https://localhost:8080/"
    },
    "id": "iZKEb8CJprX4",
    "outputId": "e579e316-a200-44e1-8a19-5f35263829eb"
   },
   "outputs": [
    {
     "data": {
      "text/plain": [
       "torch.Size([4, 20, 512, 512])"
      ]
     },
     "execution_count": 15,
     "metadata": {},
     "output_type": "execute_result"
    }
   ],
   "source": [
    "Y_pred['out'].shape"
   ]
  },
  {
   "cell_type": "code",
   "execution_count": null,
   "metadata": {
    "id": "5sqYyMdXCuZr"
   },
   "outputs": [],
   "source": [
    "Y = torch.argmax(Y, dim=1)"
   ]
  },
  {
   "cell_type": "code",
   "execution_count": null,
   "metadata": {
    "id": "jFqvst67Cc8J"
   },
   "outputs": [],
   "source": [
    "Y_pred = torch.argmax(Y_pred['out'], dim=1).float()"
   ]
  },
  {
   "cell_type": "code",
   "execution_count": null,
   "metadata": {
    "colab": {
     "base_uri": "https://localhost:8080/"
    },
    "id": "MAcBF7luCjbS",
    "outputId": "903845d8-4331-4e92-de3a-95753e83307f"
   },
   "outputs": [],
   "source": [
    "print(X.shape)\n",
    "print(Y.shape)\n",
    "print(Y_pred.shape)"
   ]
  },
  {
   "cell_type": "code",
   "execution_count": null,
   "metadata": {
    "colab": {
     "base_uri": "https://localhost:8080/",
     "height": 1000
    },
    "id": "qIrq1VmsnmEg",
    "outputId": "3a5c4d1b-e290-4f1b-c156-771cb4274de0"
   },
   "outputs": [],
   "source": [
    "fig, axes = plt.subplots(4, 3, figsize=(3*5, 4*5))\n",
    "\n",
    "for i in range(4):\n",
    "    \n",
    "    landscape = X[i].permute(1, 2, 0).cpu().detach().numpy()\n",
    "    label_class = Y[i].cpu().detach().numpy()\n",
    "    label_class_predicted = Y_pred[i].cpu().detach().numpy()\n",
    "\n",
    "\n",
    "    axes[i, 0].imshow(landscape)\n",
    "    axes[i, 0].set_title(\"Landscape\")\n",
    "   \n",
    "    axes[i, 1].imshow(label_class, cmap = 'jet')\n",
    "    axes[i, 1].set_title(\"Label Class\")\n",
    "   \n",
    "    axes[i, 2].imshow(label_class_predicted, cmap = 'jet')\n",
    "    axes[i, 2].set_title(\"Label Class - Predicted\")"
   ]
  },
  {
   "cell_type": "markdown",
   "metadata": {
    "id": "B4nSMuUBP1kq"
   },
   "source": [
    "# Defining metrics"
   ]
  },
  {
   "cell_type": "code",
   "execution_count": null,
   "metadata": {
    "id": "PjM5ooZAHvOM"
   },
   "outputs": [],
   "source": [
    "def MeanIoU(num_classes, target, pred):\n",
    "  mIoU = 0\n",
    "\n",
    "  for i in range(num_classes):\n",
    "    \n",
    "    intersection = torch.logical_and(target[i].int(), pred[i].int())\n",
    "    union = torch.logical_or(target[i].int(), pred[i].int())\n",
    "    iou_score = torch.sum(intersection) / torch.sum(union)\n",
    "    \n",
    "    if (torch.sum(union) == 0):\n",
    "      iou_score = 1\n",
    "    \n",
    "    mIoU = mIoU + iou_score\n",
    "  \n",
    "  return mIoU / num_classes"
   ]
  },
  {
   "cell_type": "code",
   "execution_count": null,
   "metadata": {
    "id": "Ny71dpmoGuQF"
   },
   "outputs": [],
   "source": [
    "def label_categorization(img, H, W):\n",
    "  channled_mask = torch.zeros((NUM_CLASSES, H, W)) \n",
    "  for i in range(NUM_CLASSES):\n",
    "    # Converting [1, IMAGE_SIZE, IMAGE_SIZE] to [num_classes, 1024, 2048]\n",
    "    channled_mask[i][img.squeeze() == i] = 1     \n",
    "  return channled_mask"
   ]
  },
  {
   "cell_type": "code",
   "execution_count": null,
   "metadata": {
    "id": "XLJ1vHtwgWfi"
   },
   "outputs": [],
   "source": [
    "def binary_mask(self, img):\n",
    "  for i in range(self.num_classes):\n",
    "    img[i] = (img[i] > 0.50).float() \n",
    "  return img"
   ]
  },
  {
   "cell_type": "markdown",
   "metadata": {
    "id": "KXJj5HpdQbKZ"
   },
   "source": [
    "## Checking Metrics Credibility"
   ]
  },
  {
   "cell_type": "code",
   "execution_count": null,
   "metadata": {
    "id": "RGfno7eFV5OC"
   },
   "outputs": [],
   "source": [
    "X, Y = next(iter(val_data_loader))\n",
    "X, Y = X.to(device).float(), Y.to(device).long()\n",
    "Y_pred = model(X)"
   ]
  },
  {
   "cell_type": "code",
   "execution_count": null,
   "metadata": {
    "colab": {
     "base_uri": "https://localhost:8080/"
    },
    "id": "Ggxw8X6OIAMZ",
    "outputId": "8d69a452-24fe-43bf-f93d-819bdff300a1"
   },
   "outputs": [
    {
     "data": {
      "text/plain": [
       "tensor(1., device='cuda:0')"
      ]
     },
     "execution_count": 16,
     "metadata": {},
     "output_type": "execute_result"
    }
   ],
   "source": [
    "MeanIoU(num_classes = NUM_CLASSES, target = Y[0], pred= Y[0])"
   ]
  },
  {
   "cell_type": "markdown",
   "metadata": {
    "id": "2-9KPdlTHvxL"
   },
   "source": [
    "# Loading model and testing Loaded model"
   ]
  },
  {
   "cell_type": "code",
   "execution_count": null,
   "metadata": {
    "colab": {
     "base_uri": "https://localhost:8080/"
    },
    "id": "8QClCSScmP6V",
    "outputId": "e5e7973e-d5e7-49c0-ae4b-1d7773ca5986"
   },
   "outputs": [
    {
     "data": {
      "text/plain": [
       "<All keys matched successfully>"
      ]
     },
     "execution_count": 10,
     "metadata": {},
     "output_type": "execute_result"
    }
   ],
   "source": [
    "# model.load_state_dict(torch.load('/content/drive/MyDrive/Final_Project/models/deeplab50_1_epoch.pt'))\n",
    "model.load_state_dict(torch.load('/content/drive/MyDrive/Final_Project/models/deeplab101_1_epoch.pt'))\n",
    "\n",
    "# model.eval()"
   ]
  },
  {
   "cell_type": "code",
   "execution_count": null,
   "metadata": {
    "id": "1W09eQgRCYs7"
   },
   "outputs": [],
   "source": [
    "X, Y = X.to(device).float(), Y.to(device).long()\n",
    "Y_pred = model(X)"
   ]
  },
  {
   "cell_type": "code",
   "execution_count": null,
   "metadata": {
    "colab": {
     "base_uri": "https://localhost:8080/"
    },
    "id": "Q-Fav0CLCYs8",
    "outputId": "b740fd7d-9f2b-4b6f-a63e-c382c273e2ef"
   },
   "outputs": [],
   "source": [
    "Y_pred['out'].shape"
   ]
  },
  {
   "cell_type": "code",
   "execution_count": null,
   "metadata": {
    "id": "Dd4G0hW7CYs8"
   },
   "outputs": [],
   "source": [
    "Y = torch.argmax(Y, dim=1)"
   ]
  },
  {
   "cell_type": "code",
   "execution_count": null,
   "metadata": {
    "id": "A_IWww1WCYs8"
   },
   "outputs": [],
   "source": [
    "Y_pred = torch.argmax(Y_pred['out'], dim=1).float()"
   ]
  },
  {
   "cell_type": "code",
   "execution_count": null,
   "metadata": {
    "colab": {
     "base_uri": "https://localhost:8080/"
    },
    "id": "AJCPmECdCYs8",
    "outputId": "2b9931e0-df14-410f-9488-e839e592b502"
   },
   "outputs": [],
   "source": [
    "print(X.shape)\n",
    "print(Y.shape)\n",
    "print(Y_pred.shape)"
   ]
  },
  {
   "cell_type": "code",
   "execution_count": null,
   "metadata": {
    "id": "zKOIEIw_YipR"
   },
   "outputs": [],
   "source": []
  },
  {
   "cell_type": "code",
   "execution_count": null,
   "metadata": {
    "colab": {
     "base_uri": "https://localhost:8080/",
     "height": 607
    },
    "id": "TJg5oM5NCYs8",
    "outputId": "2ff35d5e-56fe-408d-aaa2-0c943ce0eebe"
   },
   "outputs": [],
   "source": [
    "fig, axes = plt.subplots(BATCH_SIZE, 3, figsize=(3*5, BATCH_SIZE*5))\n",
    "\n",
    "for i in range(BATCH_SIZE):\n",
    "    \n",
    "    landscape = X[i].permute(1, 2, 0).cpu().detach().numpy()\n",
    "    label_class = Y[i].cpu().detach().numpy()\n",
    "    label_class_predicted = Y_pred[i].cpu().detach().numpy()\n",
    "\n",
    "\n",
    "    axes[i, 0].imshow(landscape)\n",
    "    axes[i, 0].set_title(\"Landscape\")\n",
    "   \n",
    "    axes[i, 1].imshow(label_class, cmap = 'jet')\n",
    "    axes[i, 1].set_title(\"Label Class\")\n",
    "   \n",
    "    axes[i, 2].imshow(label_class_predicted, cmap = 'jet')\n",
    "    axes[i, 2].set_title(\"Label Class - Predicted\")"
   ]
  },
  {
   "cell_type": "markdown",
   "metadata": {
    "id": "MWDsVRVYQI2o"
   },
   "source": [
    "# Training"
   ]
  },
  {
   "cell_type": "code",
   "execution_count": null,
   "metadata": {
    "id": "Rm342jRADy6U"
   },
   "outputs": [],
   "source": [
    "import time\n",
    "from time import sleep\n",
    "import copy\n",
    "from tqdm.notebook import tqdm\n",
    "from sklearn.metrics import confusion_matrix\n",
    "dataloaders = {'train': train_data_loader ,\n",
    "               'val': val_data_loader}"
   ]
  },
  {
   "cell_type": "code",
   "execution_count": null,
   "metadata": {
    "id": "eohusHJCJpu3"
   },
   "outputs": [],
   "source": [
    "criterion = nn.CrossEntropyLoss()\n",
    "optimizer = torch.optim.Adam(model.parameters(), lr=0.0001)\n",
    "scheduler = torch.optim.lr_scheduler.CosineAnnealingLR(optimizer, T_max = 200, verbose = False)"
   ]
  },
  {
   "cell_type": "code",
   "execution_count": null,
   "metadata": {
    "id": "fBsvVP6gEC7F"
   },
   "outputs": [],
   "source": [
    "def train_model(model, dataloaders, criterion, optimizer, num_epochs=25):\n",
    "    since = time.time()\n",
    "\n",
    "    val_IoU_history = []\n",
    "\n",
    "    best_model_wts = copy.deepcopy(model.state_dict())\n",
    "    best_IoU = 0.0\n",
    "    mIoU = 0.0\n",
    "    loss = 0.0\n",
    "    batch_mIoU = 0\n",
    "    IoU_changes = []\n",
    "    train_losses = []\n",
    "    val_losses   = []\n",
    "    for epoch in range(num_epochs):\n",
    "        tic = time.time()\n",
    "        print('Epoch {}/{}'.format(epoch, num_epochs - 1))\n",
    "        print('--' * 10)\n",
    "\n",
    "        # Each epoch has a training and validation phase\n",
    "        for phase in ['train', 'val']:\n",
    "            \n",
    "            if phase == 'train':\n",
    "                model.train()  # Set model to training mode\n",
    "            else:\n",
    "                model.eval()   # Set model to evaluate mode\n",
    "\n",
    "            # Iterate over data.\n",
    "            t = tqdm(dataloaders[phase])\n",
    "            for batch_idx, (inputs, labels) in enumerate(t):\n",
    "                # sleep(0.1)\n",
    "                batch_mIoU = 0\n",
    "                t.set_description(f\"best IoU : {best_IoU:.2f}, Mean IoU : {mIoU:.2f}, loss : {loss:.2f}\")\n",
    "                t.refresh()\n",
    "                inputs = inputs.to(device)\n",
    "                labels = labels.to(device)\n",
    "\n",
    "                # zero the parameter gradients\n",
    "                optimizer.zero_grad()\n",
    "\n",
    "                # forward\n",
    "                # track history if only in train\n",
    "                with torch.set_grad_enabled(phase == 'train'):\n",
    "                    # Get model outputs and calculate loss\n",
    "                    # Special case for inception because in training it has an auxiliary output. In train\n",
    "                    #   mode we calculate the loss by summing the final output and the auxiliary output\n",
    "                    #   but in testing we only consider the final output.\n",
    "                    outputs = model(inputs)\n",
    "                    loss = criterion(outputs['out'], labels.float())\n",
    "                    # print(mIoU)  \n",
    "                    y      = torch.argmax(labels, dim=1)\n",
    "                    y_pred = torch.argmax(outputs['out'], dim=1)\n",
    "\n",
    "                    for i in range(BATCH_SIZE):\n",
    "                      batch_mIoU += MeanIoU(num_classes = NUM_CLASSES,\n",
    "                                      target = label_categorization(y[i]),\n",
    "                                      pred   = label_categorization(y_pred[i])\n",
    "                                      )\n",
    "                    mIoU = batch_mIoU / (BATCH_SIZE)\n",
    "                    IoU_changes.append(mIoU)\n",
    "                    # preds = torch.argmax(outputs['out'], dim=1).detach().cpu().numpy()\n",
    "                    # gt = torch.argmax(labels, dim=1).detach().cpu().numpy()\n",
    "                    # conf_mat = confusion_matrix(y_pred=preds.flatten(), y_true=gt.flatten(), labels=list(range(NUM_CLASSES)))\n",
    "                    # mIoU = Metrics(conf_mat)\n",
    "\n",
    "                    # backward + optimize only if in training phase\n",
    "                    if phase == 'train':\n",
    "                        train_losses.append(loss)\n",
    "                        loss.backward()\n",
    "                        optimizer.step()\n",
    "                        scheduler.step()\n",
    "                    if (phase == 'val') :\n",
    "                        val_losses.append(loss) \n",
    "\n",
    "            # epoch_acc = running_corrects.double() / len(dataloaders[phase].dataset)\n",
    "            toc = time.time()\n",
    "            \n",
    "            print(f'IoU: {mIoU:.2f}, {phase} Loss: {loss:.2f}, Time: {((toc - tic) / 60):.2f} min ')\n",
    "            # deep copy the model\n",
    "            if phase == 'val' and mIoU > best_IoU:\n",
    "                best_IoU = mIoU\n",
    "                best_model_wts = copy.deepcopy(model.state_dict())\n",
    "            if phase == 'val':\n",
    "                val_IoU_history.append(mIoU)\n",
    "        print()\n",
    "\n",
    "    time_elapsed = time.time() - since\n",
    "    print('Training complete in {:.0f}m {:.0f}s'.format(time_elapsed // 60, time_elapsed % 60))\n",
    "    print('Best val IoU: {:4f}'.format(best_IoU))\n",
    "\n",
    "    # load best model weights\n",
    "    model.load_state_dict(best_model_wts)\n",
    "    return model, val_IoU_history, train_losses, val_losses, IoU_changes"
   ]
  },
  {
   "cell_type": "code",
   "execution_count": null,
   "metadata": {
    "colab": {
     "base_uri": "https://localhost:8080/",
     "height": 203,
     "referenced_widgets": [
      "aee6757552e048679fe10b8abf3525a8",
      "18516cf1d0604c20af9c9044839d5a58",
      "bddaa7466a9c419584693ecf127be2e8",
      "7142b020e05d4f7cb53e46278ada2b1f",
      "f93c9b6415b34d4ca8c284bcdb3a4a3a",
      "cc7806d1077f4b2fb4aad300392e0aea",
      "49a66261ebfd4aa4a2695d0f11513515",
      "fb89227bc7094d5b8675e80ec314f537",
      "0452fa735c974f3db19f00b25e12cfc5",
      "81c479b25daf443e906fd0a0844ad723",
      "d3defe9a8ed8419ea3ae895d29c8abb1",
      "9136456434404c6d85910a4b3a603b18",
      "dc777b0381494de083eed66d396c5f7d",
      "b0f97808767742f193d44d4dabfbdfcb",
      "3e224ef0089d473caaf7425f19b22f16",
      "4a2d201c701c4e77a6fe78d4e0858789",
      "56d42de32af141e196401a6280c8d915",
      "499b4c533e364371860e71c3487943fb",
      "122971352dbd411d86e7347c2a76b28f",
      "de7d55e5d8024de294a592e6fb4235e8",
      "7716aa0d65b84488a6560344004f2ca8",
      "6fb066e760054104ad777b8b9a54325f"
     ]
    },
    "id": "XqbMiW24JhzU",
    "outputId": "b6c3c1e9-fca9-473e-a232-dbd34d6ed826"
   },
   "outputs": [],
   "source": [
    "torch.cuda.empty_cache()\n",
    "model_ft, hist, train_losses, val_losses, IoU_changes = train_model(model , dataloaders , criterion, optimizer, num_epochs=NUM_EPOCHS)"
   ]
  },
  {
   "cell_type": "code",
   "execution_count": null,
   "metadata": {
    "id": "zU4hOS1shkfx"
   },
   "outputs": [],
   "source": [
    "val_losses"
   ]
  },
  {
   "cell_type": "code",
   "execution_count": null,
   "metadata": {
    "id": "R93pk-U2nFtz"
   },
   "outputs": [],
   "source": [
    "torch.save(model_ft.state_dict(), '/content/drive/MyDrive/Final_Project/models/deeplab101_1_epoch.pt')"
   ]
  },
  {
   "cell_type": "markdown",
   "metadata": {
    "id": "0Uew7tTOA_HW"
   },
   "source": [
    "# After training"
   ]
  },
  {
   "cell_type": "code",
   "execution_count": null,
   "metadata": {
    "colab": {
     "base_uri": "https://localhost:8080/"
    },
    "id": "xuQZpmrGSi1a",
    "outputId": "e412c8ce-26bc-49a5-abde-f905ee8fce8b"
   },
   "outputs": [],
   "source": [
    "X, Y = next(iter(val_data_loader))\n",
    "X, Y = X.to(device), Y.to(device)\n",
    "Y_pred = model_ft(X)\n",
    "# Y_pred = model(X)\n",
    "print(Y_pred['out'].shape)"
   ]
  },
  {
   "cell_type": "code",
   "execution_count": null,
   "metadata": {
    "id": "xFz2vZ-Objc6"
   },
   "outputs": [],
   "source": []
  },
  {
   "cell_type": "code",
   "execution_count": null,
   "metadata": {
    "colab": {
     "base_uri": "https://localhost:8080/"
    },
    "id": "ObEpwgR41JiV",
    "outputId": "1730e774-160e-4322-ab28-81fb0ab939bc"
   },
   "outputs": [],
   "source": [
    "y_pred = torch.argmax(Y_pred['out'], dim=1)\n",
    "print(y_pred[0].shape)"
   ]
  },
  {
   "cell_type": "code",
   "execution_count": null,
   "metadata": {
    "colab": {
     "base_uri": "https://localhost:8080/"
    },
    "id": "ixTLrlAf4DBH",
    "outputId": "6263d90f-110a-440e-9763-75c90f9042d7"
   },
   "outputs": [
    {
     "name": "stdout",
     "output_type": "stream",
     "text": [
      "torch.Size([650, 650])\n"
     ]
    }
   ],
   "source": [
    "y = torch.argmax(Y, dim=1)\n",
    "print(y[0].shape)"
   ]
  },
  {
   "cell_type": "code",
   "execution_count": null,
   "metadata": {
    "colab": {
     "base_uri": "https://localhost:8080/",
     "height": 607
    },
    "id": "MooL_6A5SrUn",
    "outputId": "b16afcfc-a77b-4df3-896b-4249b91ff3ef"
   },
   "outputs": [],
   "source": [
    "fig, axes = plt.subplots(BATCH_SIZE, 3, figsize=(3*5, BATCH_SIZE*5))\n",
    "\n",
    "for i in range(BATCH_SIZE):\n",
    "    \n",
    "    landscape = X[i].permute(1, 2, 0).cpu().detach().numpy()\n",
    "    label_class = y[i].cpu().detach().numpy()\n",
    "    label_class_predicted = y_pred[i].cpu().detach().numpy()\n",
    "    \n",
    "    axes[i, 0].imshow(landscape)\n",
    "    axes[i, 0].set_title(\"Landscape\")\n",
    "    axes[i, 1].imshow(label_class, cmap = 'jet')\n",
    "    axes[i, 1].set_title(\"Label Class\")\n",
    "    axes[i, 2].imshow(label_class_predicted, cmap = 'jet')\n",
    "    axes[i, 2].set_title(\"Label Class - Predicted\")"
   ]
  },
  {
   "cell_type": "code",
   "execution_count": null,
   "metadata": {
    "id": "JzSO7v0iK_c7"
   },
   "outputs": [],
   "source": [
    "mIoU = 0\n",
    "for i in range(BATCH_SIZE):\n",
    "  mIoU = MeanIoU(num_classes = NUM_CLASSES,\n",
    "                  target = label_categorization(y[i]),\n",
    "                  pred   = label_categorization(y_pred[i])\n",
    "                  )\n",
    "  print(mIoU)\n",
    "mIoU = mIoU / BATCH_SIZE"
   ]
  },
  {
   "cell_type": "code",
   "execution_count": null,
   "metadata": {
    "colab": {
     "base_uri": "https://localhost:8080/",
     "height": 282
    },
    "id": "fQBCnY_ZKgwU",
    "outputId": "50301635-3d3b-4c00-841c-4baae0ad5c6e"
   },
   "outputs": [],
   "source": [
    "val_loss = [i.cpu().detach().numpy() for i in val_losses]\n",
    "plt.plot(val_loss)"
   ]
  },
  {
   "cell_type": "code",
   "execution_count": null,
   "metadata": {
    "colab": {
     "base_uri": "https://localhost:8080/"
    },
    "id": "wJOxwe9iRGJo",
    "outputId": "234d16f2-d40a-4c1d-c12e-1ccd70011714"
   },
   "outputs": [
    {
     "data": {
      "text/plain": [
       "3.2509193420410156"
      ]
     },
     "execution_count": 46,
     "metadata": {},
     "output_type": "execute_result"
    }
   ],
   "source": [
    "train_losses[0].item()"
   ]
  },
  {
   "cell_type": "code",
   "execution_count": null,
   "metadata": {
    "colab": {
     "base_uri": "https://localhost:8080/",
     "height": 282
    },
    "id": "QD6YTHydLEEN",
    "outputId": "ec55ab43-b891-43ff-abd5-3d6490175c56",
    "scrolled": true
   },
   "outputs": [],
   "source": [
    "train_loss = [i.item() for i in train_losses]\n",
    "plt.plot(train_loss)"
   ]
  },
  {
   "cell_type": "code",
   "execution_count": null,
   "metadata": {
    "colab": {
     "base_uri": "https://localhost:8080/",
     "height": 282
    },
    "id": "s-QNEBlVLNkF",
    "outputId": "0b6bfbba-9aae-4835-d32d-9bec61b17c71"
   },
   "outputs": [],
   "source": [
    "IoUs = [i.cpu().detach().numpy() for i in IoU_changes]\n",
    "plt.plot(IoUs[])"
   ]
  },
  {
   "cell_type": "code",
   "execution_count": null,
   "metadata": {
    "id": "po6404yVrxbf"
   },
   "outputs": [],
   "source": [
    "def MeanIoU(num_classes, target, pred):\n",
    "  mIoU = 0\n",
    "\n",
    "  for i in range(num_classes):\n",
    "    \n",
    "    intersection = torch.logical_and(target[i].int(), pred[i].int())\n",
    "    union = torch.logical_or(target[i].int(), pred[i].int())\n",
    "    iou_score = torch.sum(intersection) / torch.sum(union)\n",
    "    \n",
    "    if (torch.sum(union) == 0):\n",
    "      iou_score = 1\n",
    "    \n",
    "    print(f\"channel {i}: {iou_score}\")\n",
    "\n",
    "    mIoU = mIoU + iou_score\n",
    "\n",
    "  return mIoU / num_classes"
   ]
  },
  {
   "cell_type": "code",
   "execution_count": null,
   "metadata": {
    "colab": {
     "base_uri": "https://localhost:8080/"
    },
    "id": "8Z0mZ0vJr198",
    "outputId": "3b63e748-4558-4767-ab41-10a700a751aa"
   },
   "outputs": [],
   "source": [
    "  mIoU = MeanIoU(num_classes = NUM_CLASSES,\n",
    "                  target = label_categorization(y[1]),\n",
    "                  pred   = label_categorization(y_pred[1])\n",
    "                  )"
   ]
  },
  {
   "cell_type": "code",
   "execution_count": null,
   "metadata": {
    "colab": {
     "base_uri": "https://localhost:8080/",
     "height": 1000
    },
    "id": "ksiNj3z92qCA",
    "outputId": "c334ccd4-5c30-4481-94a5-9968e66e0d81"
   },
   "outputs": [],
   "source": [
    "# label = Y_pred['out'][0].cpu().detach().numpy()\n",
    "\n",
    "img_num = 1\n",
    "\n",
    "fig, axes = plt.subplots(ncols = 2, nrows= NUM_CLASSES, figsize=(10,90))\n",
    "for i in range(NUM_CLASSES):\n",
    "  print('pred values : ',torch.unique(label_categorization(y[img_num])[i]))\n",
    "  axes[i][0].imshow( label_categorization(y[img_num])[i].cpu().detach().numpy() , cmap = 'gray')\n",
    "  axes[i][0].set_title(f'channel {i} label')\n",
    "  axes[i][0].axis('off')\n",
    "\n",
    "  print('label values : ',torch.unique(label_categorization(y_pred[img_num])[i]))\n",
    "  axes[i][1].imshow(label_categorization(y_pred[img_num])[i].cpu().detach().numpy(), cmap = 'gray')\n",
    "  axes[i][1].set_title(f'channel {i} pred')\n",
    "  axes[i][1].axis('off')"
   ]
  },
  {
   "cell_type": "code",
   "execution_count": null,
   "metadata": {
    "colab": {
     "base_uri": "https://localhost:8080/"
    },
    "id": "SVSSwfKbuAmi",
    "outputId": "5301cccd-9bb2-4bee-b560-76768df334f7"
   },
   "outputs": [],
   "source": [
    "mIoU = MeanIoU(num_classes = NUM_CLASSES,\n",
    "                target = label_categorization(y[img_num]),\n",
    "                pred   = label_categorization(y_pred[img_num])\n",
    "                )"
   ]
  },
  {
   "cell_type": "code",
   "execution_count": null,
   "metadata": {
    "id": "CuAd504luZqB"
   },
   "outputs": [],
   "source": []
  }
 ],
 "metadata": {
  "accelerator": "GPU",
  "colab": {
   "collapsed_sections": [
    "zQzfvZi-IBVB",
    "1D8v3-NnPa66",
    "hO0VtFLrPeMk",
    "KXJj5HpdQbKZ",
    "2-9KPdlTHvxL"
   ],
   "provenance": []
  },
  "gpuClass": "standard",
  "kernelspec": {
   "display_name": "Python 3",
   "language": "python",
   "name": "python3"
  },
  "language_info": {
   "codemirror_mode": {
    "name": "ipython",
    "version": 3
   },
   "file_extension": ".py",
   "mimetype": "text/x-python",
   "name": "python",
   "nbconvert_exporter": "python",
   "pygments_lexer": "ipython3",
   "version": "3.8.3"
  },
  "widgets": {
   "application/vnd.jupyter.widget-state+json": {
    "0452fa735c974f3db19f00b25e12cfc5": {
     "model_module": "@jupyter-widgets/controls",
     "model_module_version": "1.5.0",
     "model_name": "ProgressStyleModel",
     "state": {
      "_model_module": "@jupyter-widgets/controls",
      "_model_module_version": "1.5.0",
      "_model_name": "ProgressStyleModel",
      "_view_count": null,
      "_view_module": "@jupyter-widgets/base",
      "_view_module_version": "1.2.0",
      "_view_name": "StyleView",
      "bar_color": null,
      "description_width": ""
     }
    },
    "122971352dbd411d86e7347c2a76b28f": {
     "model_module": "@jupyter-widgets/base",
     "model_module_version": "1.2.0",
     "model_name": "LayoutModel",
     "state": {
      "_model_module": "@jupyter-widgets/base",
      "_model_module_version": "1.2.0",
      "_model_name": "LayoutModel",
      "_view_count": null,
      "_view_module": "@jupyter-widgets/base",
      "_view_module_version": "1.2.0",
      "_view_name": "LayoutView",
      "align_content": null,
      "align_items": null,
      "align_self": null,
      "border": null,
      "bottom": null,
      "display": null,
      "flex": null,
      "flex_flow": null,
      "grid_area": null,
      "grid_auto_columns": null,
      "grid_auto_flow": null,
      "grid_auto_rows": null,
      "grid_column": null,
      "grid_gap": null,
      "grid_row": null,
      "grid_template_areas": null,
      "grid_template_columns": null,
      "grid_template_rows": null,
      "height": null,
      "justify_content": null,
      "justify_items": null,
      "left": null,
      "margin": null,
      "max_height": null,
      "max_width": null,
      "min_height": null,
      "min_width": null,
      "object_fit": null,
      "object_position": null,
      "order": null,
      "overflow": null,
      "overflow_x": null,
      "overflow_y": null,
      "padding": null,
      "right": null,
      "top": null,
      "visibility": null,
      "width": null
     }
    },
    "18516cf1d0604c20af9c9044839d5a58": {
     "model_module": "@jupyter-widgets/controls",
     "model_module_version": "1.5.0",
     "model_name": "HTMLModel",
     "state": {
      "_dom_classes": [],
      "_model_module": "@jupyter-widgets/controls",
      "_model_module_version": "1.5.0",
      "_model_name": "HTMLModel",
      "_view_count": null,
      "_view_module": "@jupyter-widgets/controls",
      "_view_module_version": "1.5.0",
      "_view_name": "HTMLView",
      "description": "",
      "description_tooltip": null,
      "layout": "IPY_MODEL_cc7806d1077f4b2fb4aad300392e0aea",
      "placeholder": "​",
      "style": "IPY_MODEL_49a66261ebfd4aa4a2695d0f11513515",
      "value": "best IoU : 0.00, Mean IoU : 0.48, loss : 1.06: 100%"
     }
    },
    "3e224ef0089d473caaf7425f19b22f16": {
     "model_module": "@jupyter-widgets/controls",
     "model_module_version": "1.5.0",
     "model_name": "HTMLModel",
     "state": {
      "_dom_classes": [],
      "_model_module": "@jupyter-widgets/controls",
      "_model_module_version": "1.5.0",
      "_model_name": "HTMLModel",
      "_view_count": null,
      "_view_module": "@jupyter-widgets/controls",
      "_view_module_version": "1.5.0",
      "_view_name": "HTMLView",
      "description": "",
      "description_tooltip": null,
      "layout": "IPY_MODEL_7716aa0d65b84488a6560344004f2ca8",
      "placeholder": "​",
      "style": "IPY_MODEL_6fb066e760054104ad777b8b9a54325f",
      "value": " 250/250 [08:21&lt;00:00,  2.06s/it]"
     }
    },
    "499b4c533e364371860e71c3487943fb": {
     "model_module": "@jupyter-widgets/controls",
     "model_module_version": "1.5.0",
     "model_name": "DescriptionStyleModel",
     "state": {
      "_model_module": "@jupyter-widgets/controls",
      "_model_module_version": "1.5.0",
      "_model_name": "DescriptionStyleModel",
      "_view_count": null,
      "_view_module": "@jupyter-widgets/base",
      "_view_module_version": "1.2.0",
      "_view_name": "StyleView",
      "description_width": ""
     }
    },
    "49a66261ebfd4aa4a2695d0f11513515": {
     "model_module": "@jupyter-widgets/controls",
     "model_module_version": "1.5.0",
     "model_name": "DescriptionStyleModel",
     "state": {
      "_model_module": "@jupyter-widgets/controls",
      "_model_module_version": "1.5.0",
      "_model_name": "DescriptionStyleModel",
      "_view_count": null,
      "_view_module": "@jupyter-widgets/base",
      "_view_module_version": "1.2.0",
      "_view_name": "StyleView",
      "description_width": ""
     }
    },
    "4a2d201c701c4e77a6fe78d4e0858789": {
     "model_module": "@jupyter-widgets/base",
     "model_module_version": "1.2.0",
     "model_name": "LayoutModel",
     "state": {
      "_model_module": "@jupyter-widgets/base",
      "_model_module_version": "1.2.0",
      "_model_name": "LayoutModel",
      "_view_count": null,
      "_view_module": "@jupyter-widgets/base",
      "_view_module_version": "1.2.0",
      "_view_name": "LayoutView",
      "align_content": null,
      "align_items": null,
      "align_self": null,
      "border": null,
      "bottom": null,
      "display": null,
      "flex": null,
      "flex_flow": null,
      "grid_area": null,
      "grid_auto_columns": null,
      "grid_auto_flow": null,
      "grid_auto_rows": null,
      "grid_column": null,
      "grid_gap": null,
      "grid_row": null,
      "grid_template_areas": null,
      "grid_template_columns": null,
      "grid_template_rows": null,
      "height": null,
      "justify_content": null,
      "justify_items": null,
      "left": null,
      "margin": null,
      "max_height": null,
      "max_width": null,
      "min_height": null,
      "min_width": null,
      "object_fit": null,
      "object_position": null,
      "order": null,
      "overflow": null,
      "overflow_x": null,
      "overflow_y": null,
      "padding": null,
      "right": null,
      "top": null,
      "visibility": null,
      "width": null
     }
    },
    "56d42de32af141e196401a6280c8d915": {
     "model_module": "@jupyter-widgets/base",
     "model_module_version": "1.2.0",
     "model_name": "LayoutModel",
     "state": {
      "_model_module": "@jupyter-widgets/base",
      "_model_module_version": "1.2.0",
      "_model_name": "LayoutModel",
      "_view_count": null,
      "_view_module": "@jupyter-widgets/base",
      "_view_module_version": "1.2.0",
      "_view_name": "LayoutView",
      "align_content": null,
      "align_items": null,
      "align_self": null,
      "border": null,
      "bottom": null,
      "display": null,
      "flex": null,
      "flex_flow": null,
      "grid_area": null,
      "grid_auto_columns": null,
      "grid_auto_flow": null,
      "grid_auto_rows": null,
      "grid_column": null,
      "grid_gap": null,
      "grid_row": null,
      "grid_template_areas": null,
      "grid_template_columns": null,
      "grid_template_rows": null,
      "height": null,
      "justify_content": null,
      "justify_items": null,
      "left": null,
      "margin": null,
      "max_height": null,
      "max_width": null,
      "min_height": null,
      "min_width": null,
      "object_fit": null,
      "object_position": null,
      "order": null,
      "overflow": null,
      "overflow_x": null,
      "overflow_y": null,
      "padding": null,
      "right": null,
      "top": null,
      "visibility": null,
      "width": null
     }
    },
    "6fb066e760054104ad777b8b9a54325f": {
     "model_module": "@jupyter-widgets/controls",
     "model_module_version": "1.5.0",
     "model_name": "DescriptionStyleModel",
     "state": {
      "_model_module": "@jupyter-widgets/controls",
      "_model_module_version": "1.5.0",
      "_model_name": "DescriptionStyleModel",
      "_view_count": null,
      "_view_module": "@jupyter-widgets/base",
      "_view_module_version": "1.2.0",
      "_view_name": "StyleView",
      "description_width": ""
     }
    },
    "7142b020e05d4f7cb53e46278ada2b1f": {
     "model_module": "@jupyter-widgets/controls",
     "model_module_version": "1.5.0",
     "model_name": "HTMLModel",
     "state": {
      "_dom_classes": [],
      "_model_module": "@jupyter-widgets/controls",
      "_model_module_version": "1.5.0",
      "_model_name": "HTMLModel",
      "_view_count": null,
      "_view_module": "@jupyter-widgets/controls",
      "_view_module_version": "1.5.0",
      "_view_name": "HTMLView",
      "description": "",
      "description_tooltip": null,
      "layout": "IPY_MODEL_81c479b25daf443e906fd0a0844ad723",
      "placeholder": "​",
      "style": "IPY_MODEL_d3defe9a8ed8419ea3ae895d29c8abb1",
      "value": " 1487/1487 [1:17:20&lt;00:00,  3.06s/it]"
     }
    },
    "7716aa0d65b84488a6560344004f2ca8": {
     "model_module": "@jupyter-widgets/base",
     "model_module_version": "1.2.0",
     "model_name": "LayoutModel",
     "state": {
      "_model_module": "@jupyter-widgets/base",
      "_model_module_version": "1.2.0",
      "_model_name": "LayoutModel",
      "_view_count": null,
      "_view_module": "@jupyter-widgets/base",
      "_view_module_version": "1.2.0",
      "_view_name": "LayoutView",
      "align_content": null,
      "align_items": null,
      "align_self": null,
      "border": null,
      "bottom": null,
      "display": null,
      "flex": null,
      "flex_flow": null,
      "grid_area": null,
      "grid_auto_columns": null,
      "grid_auto_flow": null,
      "grid_auto_rows": null,
      "grid_column": null,
      "grid_gap": null,
      "grid_row": null,
      "grid_template_areas": null,
      "grid_template_columns": null,
      "grid_template_rows": null,
      "height": null,
      "justify_content": null,
      "justify_items": null,
      "left": null,
      "margin": null,
      "max_height": null,
      "max_width": null,
      "min_height": null,
      "min_width": null,
      "object_fit": null,
      "object_position": null,
      "order": null,
      "overflow": null,
      "overflow_x": null,
      "overflow_y": null,
      "padding": null,
      "right": null,
      "top": null,
      "visibility": null,
      "width": null
     }
    },
    "81c479b25daf443e906fd0a0844ad723": {
     "model_module": "@jupyter-widgets/base",
     "model_module_version": "1.2.0",
     "model_name": "LayoutModel",
     "state": {
      "_model_module": "@jupyter-widgets/base",
      "_model_module_version": "1.2.0",
      "_model_name": "LayoutModel",
      "_view_count": null,
      "_view_module": "@jupyter-widgets/base",
      "_view_module_version": "1.2.0",
      "_view_name": "LayoutView",
      "align_content": null,
      "align_items": null,
      "align_self": null,
      "border": null,
      "bottom": null,
      "display": null,
      "flex": null,
      "flex_flow": null,
      "grid_area": null,
      "grid_auto_columns": null,
      "grid_auto_flow": null,
      "grid_auto_rows": null,
      "grid_column": null,
      "grid_gap": null,
      "grid_row": null,
      "grid_template_areas": null,
      "grid_template_columns": null,
      "grid_template_rows": null,
      "height": null,
      "justify_content": null,
      "justify_items": null,
      "left": null,
      "margin": null,
      "max_height": null,
      "max_width": null,
      "min_height": null,
      "min_width": null,
      "object_fit": null,
      "object_position": null,
      "order": null,
      "overflow": null,
      "overflow_x": null,
      "overflow_y": null,
      "padding": null,
      "right": null,
      "top": null,
      "visibility": null,
      "width": null
     }
    },
    "9136456434404c6d85910a4b3a603b18": {
     "model_module": "@jupyter-widgets/controls",
     "model_module_version": "1.5.0",
     "model_name": "HBoxModel",
     "state": {
      "_dom_classes": [],
      "_model_module": "@jupyter-widgets/controls",
      "_model_module_version": "1.5.0",
      "_model_name": "HBoxModel",
      "_view_count": null,
      "_view_module": "@jupyter-widgets/controls",
      "_view_module_version": "1.5.0",
      "_view_name": "HBoxView",
      "box_style": "",
      "children": [
       "IPY_MODEL_dc777b0381494de083eed66d396c5f7d",
       "IPY_MODEL_b0f97808767742f193d44d4dabfbdfcb",
       "IPY_MODEL_3e224ef0089d473caaf7425f19b22f16"
      ],
      "layout": "IPY_MODEL_4a2d201c701c4e77a6fe78d4e0858789"
     }
    },
    "aee6757552e048679fe10b8abf3525a8": {
     "model_module": "@jupyter-widgets/controls",
     "model_module_version": "1.5.0",
     "model_name": "HBoxModel",
     "state": {
      "_dom_classes": [],
      "_model_module": "@jupyter-widgets/controls",
      "_model_module_version": "1.5.0",
      "_model_name": "HBoxModel",
      "_view_count": null,
      "_view_module": "@jupyter-widgets/controls",
      "_view_module_version": "1.5.0",
      "_view_name": "HBoxView",
      "box_style": "",
      "children": [
       "IPY_MODEL_18516cf1d0604c20af9c9044839d5a58",
       "IPY_MODEL_bddaa7466a9c419584693ecf127be2e8",
       "IPY_MODEL_7142b020e05d4f7cb53e46278ada2b1f"
      ],
      "layout": "IPY_MODEL_f93c9b6415b34d4ca8c284bcdb3a4a3a"
     }
    },
    "b0f97808767742f193d44d4dabfbdfcb": {
     "model_module": "@jupyter-widgets/controls",
     "model_module_version": "1.5.0",
     "model_name": "FloatProgressModel",
     "state": {
      "_dom_classes": [],
      "_model_module": "@jupyter-widgets/controls",
      "_model_module_version": "1.5.0",
      "_model_name": "FloatProgressModel",
      "_view_count": null,
      "_view_module": "@jupyter-widgets/controls",
      "_view_module_version": "1.5.0",
      "_view_name": "ProgressView",
      "bar_style": "success",
      "description": "",
      "description_tooltip": null,
      "layout": "IPY_MODEL_122971352dbd411d86e7347c2a76b28f",
      "max": 250,
      "min": 0,
      "orientation": "horizontal",
      "style": "IPY_MODEL_de7d55e5d8024de294a592e6fb4235e8",
      "value": 250
     }
    },
    "bddaa7466a9c419584693ecf127be2e8": {
     "model_module": "@jupyter-widgets/controls",
     "model_module_version": "1.5.0",
     "model_name": "FloatProgressModel",
     "state": {
      "_dom_classes": [],
      "_model_module": "@jupyter-widgets/controls",
      "_model_module_version": "1.5.0",
      "_model_name": "FloatProgressModel",
      "_view_count": null,
      "_view_module": "@jupyter-widgets/controls",
      "_view_module_version": "1.5.0",
      "_view_name": "ProgressView",
      "bar_style": "success",
      "description": "",
      "description_tooltip": null,
      "layout": "IPY_MODEL_fb89227bc7094d5b8675e80ec314f537",
      "max": 1487,
      "min": 0,
      "orientation": "horizontal",
      "style": "IPY_MODEL_0452fa735c974f3db19f00b25e12cfc5",
      "value": 1487
     }
    },
    "cc7806d1077f4b2fb4aad300392e0aea": {
     "model_module": "@jupyter-widgets/base",
     "model_module_version": "1.2.0",
     "model_name": "LayoutModel",
     "state": {
      "_model_module": "@jupyter-widgets/base",
      "_model_module_version": "1.2.0",
      "_model_name": "LayoutModel",
      "_view_count": null,
      "_view_module": "@jupyter-widgets/base",
      "_view_module_version": "1.2.0",
      "_view_name": "LayoutView",
      "align_content": null,
      "align_items": null,
      "align_self": null,
      "border": null,
      "bottom": null,
      "display": null,
      "flex": null,
      "flex_flow": null,
      "grid_area": null,
      "grid_auto_columns": null,
      "grid_auto_flow": null,
      "grid_auto_rows": null,
      "grid_column": null,
      "grid_gap": null,
      "grid_row": null,
      "grid_template_areas": null,
      "grid_template_columns": null,
      "grid_template_rows": null,
      "height": null,
      "justify_content": null,
      "justify_items": null,
      "left": null,
      "margin": null,
      "max_height": null,
      "max_width": null,
      "min_height": null,
      "min_width": null,
      "object_fit": null,
      "object_position": null,
      "order": null,
      "overflow": null,
      "overflow_x": null,
      "overflow_y": null,
      "padding": null,
      "right": null,
      "top": null,
      "visibility": null,
      "width": null
     }
    },
    "d3defe9a8ed8419ea3ae895d29c8abb1": {
     "model_module": "@jupyter-widgets/controls",
     "model_module_version": "1.5.0",
     "model_name": "DescriptionStyleModel",
     "state": {
      "_model_module": "@jupyter-widgets/controls",
      "_model_module_version": "1.5.0",
      "_model_name": "DescriptionStyleModel",
      "_view_count": null,
      "_view_module": "@jupyter-widgets/base",
      "_view_module_version": "1.2.0",
      "_view_name": "StyleView",
      "description_width": ""
     }
    },
    "dc777b0381494de083eed66d396c5f7d": {
     "model_module": "@jupyter-widgets/controls",
     "model_module_version": "1.5.0",
     "model_name": "HTMLModel",
     "state": {
      "_dom_classes": [],
      "_model_module": "@jupyter-widgets/controls",
      "_model_module_version": "1.5.0",
      "_model_name": "HTMLModel",
      "_view_count": null,
      "_view_module": "@jupyter-widgets/controls",
      "_view_module_version": "1.5.0",
      "_view_name": "HTMLView",
      "description": "",
      "description_tooltip": null,
      "layout": "IPY_MODEL_56d42de32af141e196401a6280c8d915",
      "placeholder": "​",
      "style": "IPY_MODEL_499b4c533e364371860e71c3487943fb",
      "value": "best IoU : 0.00, Mean IoU : 0.68, loss : 0.58: 100%"
     }
    },
    "de7d55e5d8024de294a592e6fb4235e8": {
     "model_module": "@jupyter-widgets/controls",
     "model_module_version": "1.5.0",
     "model_name": "ProgressStyleModel",
     "state": {
      "_model_module": "@jupyter-widgets/controls",
      "_model_module_version": "1.5.0",
      "_model_name": "ProgressStyleModel",
      "_view_count": null,
      "_view_module": "@jupyter-widgets/base",
      "_view_module_version": "1.2.0",
      "_view_name": "StyleView",
      "bar_color": null,
      "description_width": ""
     }
    },
    "f93c9b6415b34d4ca8c284bcdb3a4a3a": {
     "model_module": "@jupyter-widgets/base",
     "model_module_version": "1.2.0",
     "model_name": "LayoutModel",
     "state": {
      "_model_module": "@jupyter-widgets/base",
      "_model_module_version": "1.2.0",
      "_model_name": "LayoutModel",
      "_view_count": null,
      "_view_module": "@jupyter-widgets/base",
      "_view_module_version": "1.2.0",
      "_view_name": "LayoutView",
      "align_content": null,
      "align_items": null,
      "align_self": null,
      "border": null,
      "bottom": null,
      "display": null,
      "flex": null,
      "flex_flow": null,
      "grid_area": null,
      "grid_auto_columns": null,
      "grid_auto_flow": null,
      "grid_auto_rows": null,
      "grid_column": null,
      "grid_gap": null,
      "grid_row": null,
      "grid_template_areas": null,
      "grid_template_columns": null,
      "grid_template_rows": null,
      "height": null,
      "justify_content": null,
      "justify_items": null,
      "left": null,
      "margin": null,
      "max_height": null,
      "max_width": null,
      "min_height": null,
      "min_width": null,
      "object_fit": null,
      "object_position": null,
      "order": null,
      "overflow": null,
      "overflow_x": null,
      "overflow_y": null,
      "padding": null,
      "right": null,
      "top": null,
      "visibility": null,
      "width": null
     }
    },
    "fb89227bc7094d5b8675e80ec314f537": {
     "model_module": "@jupyter-widgets/base",
     "model_module_version": "1.2.0",
     "model_name": "LayoutModel",
     "state": {
      "_model_module": "@jupyter-widgets/base",
      "_model_module_version": "1.2.0",
      "_model_name": "LayoutModel",
      "_view_count": null,
      "_view_module": "@jupyter-widgets/base",
      "_view_module_version": "1.2.0",
      "_view_name": "LayoutView",
      "align_content": null,
      "align_items": null,
      "align_self": null,
      "border": null,
      "bottom": null,
      "display": null,
      "flex": null,
      "flex_flow": null,
      "grid_area": null,
      "grid_auto_columns": null,
      "grid_auto_flow": null,
      "grid_auto_rows": null,
      "grid_column": null,
      "grid_gap": null,
      "grid_row": null,
      "grid_template_areas": null,
      "grid_template_columns": null,
      "grid_template_rows": null,
      "height": null,
      "justify_content": null,
      "justify_items": null,
      "left": null,
      "margin": null,
      "max_height": null,
      "max_width": null,
      "min_height": null,
      "min_width": null,
      "object_fit": null,
      "object_position": null,
      "order": null,
      "overflow": null,
      "overflow_x": null,
      "overflow_y": null,
      "padding": null,
      "right": null,
      "top": null,
      "visibility": null,
      "width": null
     }
    }
   }
  }
 },
 "nbformat": 4,
 "nbformat_minor": 1
}
